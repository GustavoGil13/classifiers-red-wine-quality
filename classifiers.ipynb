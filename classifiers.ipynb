{
 "cells": [
  {
   "cell_type": "markdown",
   "metadata": {},
   "source": [
    "# Using various classifiers on the red wine dataset\n",
    "\n",
    "On this notebook we attempt to test different classifiers on the popular [red wine dataset](https://www.kaggle.com/datasets/uciml/red-wine-quality-cortez-et-al-2009?datasetId=4458&sortBy=voteCount)."
   ]
  },
  {
   "cell_type": "markdown",
   "metadata": {},
   "source": [
    "## Columns description\n",
    "\n",
    "1. **fixed acidity**: most acids involved with wine or fixed or nonvolatile (do not evaporate readily)\n",
    "2. **volatile acidity**: the amount of acetic acid in wine, which at too high of levels can lead to an unpleasant, vinegar taste\n",
    "3. **citric acid**: found in small quantities, citric acid can add 'freshness' and flavor to wines\n",
    "4. **residual sugar**: the amount of sugar remaining after fermentation stops, it's rare to find wines with less than 1 gram/liter\n",
    "5. **chlorides**: the amount of salt in the wine\n",
    "6. **free sulfur dioxide**: the free form of SO2 exists in equilibrium between molecular SO2 (as a dissolved gas) and bisulfite ion; it prevents\n",
    "7. **total sulfur dioxide**: amount of free and bound forms of S02; in low concentrations, SO2 is mostly undetectable in wine, but at free SO2\n",
    "8. **density**: the density of water is close to that of water depending on the percent alcohol and sugar content\n",
    "9. **ph**: describes how acidic or basic a wine is on a scale from 0 (very acidic) to 14 (very basic); most wines are between 3-4\n",
    "10. **sulphates**: a wine additive which can contribute to sulfur dioxide gas (S02) levels, which acts as an antimicrobial\n",
    "11. **alcohol sulfur dioxide**: the percent alcohol content of the wine\n",
    "12. **quality**: output variable (based on sensory data, score between 3 and 8) "
   ]
  }
 ],
 "metadata": {
  "interpreter": {
   "hash": "f8e4caac373f75b7b074f1b3b8e539f49abca63d26126c2d75ff100ceb009a39"
  },
  "kernelspec": {
   "display_name": "Python 3.7.3 64-bit",
   "language": "python",
   "name": "python3"
  },
  "language_info": {
   "name": "python",
   "version": "3.7.3"
  },
  "orig_nbformat": 4
 },
 "nbformat": 4,
 "nbformat_minor": 2
}
